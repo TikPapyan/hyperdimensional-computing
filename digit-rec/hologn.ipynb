{
  "cells": [
    {
      "cell_type": "code",
      "execution_count": null,
      "metadata": {
        "id": "7PMadUJi_hMD"
      },
      "outputs": [],
      "source": [
        "import numpy as np\n",
        "from sklearn.datasets import fetch_openml\n",
        "from sklearn.model_selection import train_test_split\n",
        "from sklearn.metrics import classification_report\n",
        "from tqdm import tqdm\n",
        "import warnings\n",
        "\n",
        "warnings.filterwarnings('ignore')"
      ]
    },
    {
      "cell_type": "code",
      "execution_count": null,
      "metadata": {
        "colab": {
          "base_uri": "https://localhost:8080/"
        },
        "id": "sNXDsEBpCX1u",
        "outputId": "cb0857d2-7e6e-4001-d5bb-4883f2b035b5"
      },
      "outputs": [
        {
          "name": "stdout",
          "output_type": "stream",
          "text": [
            "Initial training set class distribution:\n",
            "{np.int64(0): np.int64(5920), np.int64(1): np.int64(6725), np.int64(2): np.int64(6023), np.int64(3): np.int64(6107), np.int64(4): np.int64(5918), np.int64(5): np.int64(5376), np.int64(6): np.int64(5915), np.int64(7): np.int64(6238), np.int64(8): np.int64(5856), np.int64(9): np.int64(5922)}\n",
            "\n",
            "Balanced training set class distribution:\n",
            "{np.int64(0): np.int64(5376), np.int64(1): np.int64(5376), np.int64(2): np.int64(5376), np.int64(3): np.int64(5376), np.int64(4): np.int64(5376), np.int64(5): np.int64(5376), np.int64(6): np.int64(5376), np.int64(7): np.int64(5376), np.int64(8): np.int64(5376), np.int64(9): np.int64(5376)}\n"
          ]
        }
      ],
      "source": [
        "mnist = fetch_openml('mnist_784', version=1, as_frame=False)\n",
        "X, y = mnist.data, mnist.target.astype(int)\n",
        "X_bin = (X > 128).astype(np.uint8)\n",
        "\n",
        "X_train, X_test, y_train, y_test = train_test_split(X_bin, y, test_size=10000, random_state=42)"
      ]
    },
    {
      "cell_type": "code",
      "execution_count": 24,
      "metadata": {
        "colab": {
          "base_uri": "https://localhost:8080/"
        },
        "id": "1gy9fpGcY55v",
        "outputId": "86d6ec6a-8910-41ec-a4f2-a771870ac02c"
      },
      "outputs": [
        {
          "name": "stdout",
          "output_type": "stream",
          "text": [
            "Mean value of pixel hypervectors: 0.5001\n"
          ]
        }
      ],
      "source": [
        "D = 4000\n",
        "num_pixels = 784\n",
        "num_classes = 10\n",
        "np.random.seed(42)\n",
        "\n",
        "pixel_hvs = np.random.choice([0, 1], size=(num_pixels, D), p=[0.5, 0.5]).astype(np.uint8)\n",
        "class_hvs = np.zeros((num_classes, D), dtype=np.uint8)\n",
        "\n",
        "pixel_mean = np.mean(pixel_hvs)\n",
        "print(f\"Mean value of pixel hypervectors: {pixel_mean:.4f}\")"
      ]
    },
    {
      "cell_type": "code",
      "execution_count": 25,
      "metadata": {
        "id": "Wbm1lwNDYnIb"
      },
      "outputs": [],
      "source": [
        "# Circular shift\n",
        "def permutation(x, shift=1):\n",
        "    return np.roll(x, shift, axis=-1)\n",
        "\n",
        "# Majority vote\n",
        "def bundle(hvs):\n",
        "    return (np.mean(hvs, axis=0) > 0.5).astype(np.uint8)\n",
        "\n",
        "# HoloGN like\n",
        "def encode_image(image, pixel_hvs):\n",
        "    active_pixels = np.where(image.ravel() == 1)[0]\n",
        "    shifted_hvs = permutation(pixel_hvs[active_pixels], shift=1)\n",
        "    if len(shifted_hvs) > 0:\n",
        "        return bundle(shifted_hvs)\n",
        "    return np.zeros(D, dtype=np.uint8)\n",
        "\n",
        "def encode_dataset(X, pixel_hvs, batch_size=128):\n",
        "    X_encoded = np.zeros((len(X), D), dtype=np.uint8)\n",
        "    for i in tqdm(range(0, len(X), batch_size), desc=\"Encoding\"):\n",
        "        batch = X[i:i+batch_size]\n",
        "        X_encoded[i:i+batch_size] = np.array([encode_image(img, pixel_hvs) for img in batch])\n",
        "    return X_encoded"
      ]
    },
    {
      "cell_type": "code",
      "execution_count": 26,
      "metadata": {
        "colab": {
          "base_uri": "https://localhost:8080/"
        },
        "id": "VUz7HH7JXnIG",
        "outputId": "80ab319e-62a4-48e4-f6b7-f94bb6b1c57f"
      },
      "outputs": [
        {
          "name": "stderr",
          "output_type": "stream",
          "text": [
            "Encoding: 100%|██████████| 420/420 [00:30<00:00, 13.82it/s]\n"
          ]
        }
      ],
      "source": [
        "X_train_encoded = encode_dataset(X_train, pixel_hvs)\n",
        "for digit in range(num_classes):\n",
        "  digit_hvs = X_train_encoded[y_train == digit]\n",
        "  if len(digit_hvs) > 0:\n",
        "    class_hvs[digit] = bundle(digit_hvs)"
      ]
    },
    {
      "cell_type": "code",
      "execution_count": 27,
      "metadata": {
        "colab": {
          "base_uri": "https://localhost:8080/"
        },
        "id": "HIjgCVxlWTFB",
        "outputId": "e5e0cef4-13b7-426a-8e52-402acebdf91d"
      },
      "outputs": [
        {
          "name": "stderr",
          "output_type": "stream",
          "text": [
            "Predicting: 100%|██████████| 79/79 [00:07<00:00, 11.18it/s]\n"
          ]
        }
      ],
      "source": [
        "def predict_batch(X_test, pixel_hvs, class_hvs, batch_size=128):\n",
        "    y_pred = np.zeros(len(X_test), dtype=int)\n",
        "    for i in tqdm(range(0, len(X_test), batch_size), desc=\"Predicting\"):\n",
        "        batch = X_test[i:i+batch_size]\n",
        "        batch_encoded = np.array([encode_image(img, pixel_hvs) for img in batch])\n",
        "\n",
        "        # Compute Hamming distances\n",
        "        distances = np.array([[np.sum(enc_hv != class_hv) for class_hv in class_hvs]\n",
        "                           for enc_hv in batch_encoded])\n",
        "        y_pred[i:i+batch_size] = np.argmin(distances, axis=1)\n",
        "    return y_pred\n",
        "\n",
        "y_pred = predict_batch(X_test, pixel_hvs, class_hvs)"
      ]
    },
    {
      "cell_type": "code",
      "execution_count": 28,
      "metadata": {
        "colab": {
          "base_uri": "https://localhost:8080/"
        },
        "id": "aC8zp4i_ZTKR",
        "outputId": "8bf954db-0948-4c55-b91d-b7164cb8650d"
      },
      "outputs": [
        {
          "name": "stdout",
          "output_type": "stream",
          "text": [
            "Classification Report:\n",
            "              precision    recall  f1-score   support\n",
            "\n",
            "           0       0.87      0.91      0.89       983\n",
            "           1       0.85      0.92      0.88      1152\n",
            "           2       0.82      0.76      0.79       967\n",
            "           3       0.70      0.80      0.75      1034\n",
            "           4       0.76      0.78      0.77       906\n",
            "           5       0.80      0.63      0.70       937\n",
            "           6       0.85      0.87      0.86       961\n",
            "           7       0.91      0.83      0.87      1055\n",
            "           8       0.71      0.73      0.72       969\n",
            "           9       0.74      0.75      0.75      1036\n",
            "\n",
            "    accuracy                           0.80     10000\n",
            "   macro avg       0.80      0.80      0.80     10000\n",
            "weighted avg       0.80      0.80      0.80     10000\n",
            "\n",
            "\n",
            "Final Accuracy: 0.8008\n"
          ]
        }
      ],
      "source": [
        "print(\"Classification Report:\")\n",
        "print(classification_report(y_test, y_pred))\n",
        "\n",
        "accuracy = np.mean(y_pred == y_test)\n",
        "print(f\"\\nFinal Accuracy: {accuracy:.4f}\")"
      ]
    }
  ],
  "metadata": {
    "colab": {
      "provenance": []
    },
    "kernelspec": {
      "display_name": "Python 3",
      "name": "python3"
    },
    "language_info": {
      "name": "python"
    }
  },
  "nbformat": 4,
  "nbformat_minor": 0
}
